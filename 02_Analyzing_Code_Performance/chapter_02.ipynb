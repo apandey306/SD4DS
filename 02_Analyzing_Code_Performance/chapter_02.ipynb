{
 "cells": [
  {
   "cell_type": "markdown",
   "metadata": {},
   "source": [
    "# Analyzing Code Performance"
   ]
  },
  {
   "cell_type": "markdown",
   "metadata": {},
   "source": [
    "### Timing Your Code"
   ]
  },
  {
   "cell_type": "code",
   "execution_count": 34,
   "metadata": {},
   "outputs": [],
   "source": [
    "def slow_way_to_calculate_mode(list_of_numbers):\n",
    "    result_dict = {}\n",
    "    for i in list_of_numbers:\n",
    "        if i not in result_dict:\n",
    "            result_dict[i] = 1\n",
    "        else:\n",
    "            result_dict[i] += 1\n",
    "\n",
    "    mode_vals = []\n",
    "    max_frequency = max(result_dict.values())\n",
    "    for key, value in result_dict.items():\n",
    "        if value == max_frequency:\n",
    "            mode_vals.append(key)\n",
    "\n",
    "    return mode_vals"
   ]
  },
  {
   "cell_type": "code",
   "execution_count": 35,
   "metadata": {},
   "outputs": [
    {
     "data": {
      "text/plain": [
       "[5]"
      ]
     },
     "execution_count": 35,
     "metadata": {},
     "output_type": "execute_result"
    }
   ],
   "source": [
    "slow_way_to_calculate_mode([4, 5, 5, 6])"
   ]
  },
  {
   "cell_type": "code",
   "execution_count": 36,
   "metadata": {},
   "outputs": [],
   "source": [
    "import numpy as np\n",
    "\n",
    "random_integers = np.random.randint(1, 1_000_000, 1_000_000)"
   ]
  },
  {
   "cell_type": "code",
   "execution_count": 37,
   "metadata": {},
   "outputs": [
    {
     "name": "stdout",
     "output_type": "stream",
     "text": [
      "0.7549707889556885\n"
     ]
    }
   ],
   "source": [
    "import time\n",
    "\n",
    "start = time.time()\n",
    "slow_way_to_calculate_mode(random_integers)\n",
    "end = time.time()\n",
    "\n",
    "print(end - start)"
   ]
  },
  {
   "cell_type": "code",
   "execution_count": 38,
   "metadata": {},
   "outputs": [
    {
     "name": "stdout",
     "output_type": "stream",
     "text": [
      "511 ms ± 24 ms per loop (mean ± std. dev. of 7 runs, 1 loop each)\n"
     ]
    }
   ],
   "source": [
    "%%timeit\n",
    "slow_way_to_calculate_mode(random_integers)"
   ]
  },
  {
   "cell_type": "markdown",
   "metadata": {},
   "source": [
    "In this case, timeit looped through the code 10 times, and it repeated the set of 10 loops 7 times, then returned the summary statistics of those runs. timeit defaults to the number of runs and loops that will fit into a 2-second window, but you can specify the number of runs using the -r flag and the number of loops using the -n flag.\n",
    "If you’re using a standalone script, you can use timeit as shown in this example:"
   ]
  },
  {
   "cell_type": "code",
   "execution_count": 39,
   "metadata": {},
   "outputs": [
    {
     "name": "stdout",
     "output_type": "stream",
     "text": [
      "Execution time: 0.40631980006583035 seconds\n"
     ]
    }
   ],
   "source": [
    "import numpy as np\n",
    "import timeit\n",
    "\n",
    "random_integers = np.random.randint(1, 100_000, 100_000)\n",
    "\n",
    "def slow_way_to_calculate_mode(list_of_numbers):\n",
    "    result_dict = {}\n",
    "    for i in list_of_numbers:\n",
    "        if i not in result_dict:\n",
    "            result_dict[i] = 1\n",
    "        else:\n",
    "            result_dict[i] += 1\n",
    "\n",
    "    mode_vals = []\n",
    "    max_frequency = max(result_dict.values())\n",
    "    for key, value in result_dict.items():\n",
    "        if value == max_frequency:\n",
    "            mode_vals.append(key)\n",
    "\n",
    "    return mode_vals\n",
    "\n",
    "mode_timer = timeit.Timer(stmt=\"slow_way_to_calculate_mode(random_integers)\",\n",
    "                          setup=\"from __main__ import slow_way_to_calculate_mode, random_integers\")\n",
    "\n",
    "time_taken = mode_timer.timeit(number=10)\n",
    "\n",
    "print(f\"Execution time: {time_taken} seconds\")\n"
   ]
  },
  {
   "cell_type": "markdown",
   "metadata": {},
   "source": [
    "But is this code any good? Is this fast or slow? Because this is just an example without real-world requirements for speed, I’ll compare it with another way of calculating the mode and see if that improves the performance. Here’s another way to carry out the same calculation:"
   ]
  },
  {
   "cell_type": "code",
   "execution_count": 9,
   "metadata": {},
   "outputs": [],
   "source": [
    "from collections import Counter\n",
    "\n",
    "def mode_using_counter(list_of_numbers):\n",
    "    c = Counter(list_of_numbers)\n",
    "    return c.most_common(1)[0][0]"
   ]
  },
  {
   "cell_type": "markdown",
   "metadata": {},
   "source": [
    "And again using timeit to measure how long it takes to run:"
   ]
  },
  {
   "cell_type": "code",
   "execution_count": 10,
   "metadata": {},
   "outputs": [
    {
     "name": "stdout",
     "output_type": "stream",
     "text": [
      "22.8 ms ± 5.11 ms per loop (mean ± std. dev. of 7 runs, 10 loops each)\n"
     ]
    }
   ],
   "source": [
    "%%timeit\n",
    "mode_using_counter(random_integers)"
   ]
  },
  {
   "cell_type": "markdown",
   "metadata": {},
   "source": [
    "As you can see, this version of the code takes much less time to run. Instead of an average of approximately 267 ms, it takes only approximately 22 ms. The standard deviation is also much lower, which helps guarantee an upper bound to the runtime."
   ]
  },
  {
   "cell_type": "markdown",
   "metadata": {},
   "source": [
    "### Why This Matters for Data Scientists\n",
    "Imagine a data scientist working with a dataset of 10 million rows, performing multiple aggregations (e.g., summing sales, averaging temperatures, or computing feature statistics). If each operation uses an inefficient loop instead of an optimized method:\n",
    "\n",
    "A task that could take seconds might stretch into minutes or hours.\n",
    "When multiplied across a full workflow—data preprocessing, feature engineering, and model training—these inefficiencies could delay projects by days.\n",
    "By contrast, using performant techniques (like sum() or vectorized operations in libraries such as NumPy and pandas) ensures the scientist can process data quickly, iterate on models, and deliver results faster. This efficiency is especially vital in time-sensitive settings, such as industry projects or research deadlines."
   ]
  },
  {
   "cell_type": "markdown",
   "metadata": {},
   "source": [
    "## Profiling Your Code\n",
    "\n",
    "### `cProfile`"
   ]
  },
  {
   "cell_type": "markdown",
   "metadata": {},
   "source": [
    "`cProfile` is the built-in profiler for Python, and you can use it to get a basic overview of the locations of bottlenecks in a longer script. In this example, I’ll put the random number generator inside the mode function from the previous section so that there’s more to see in the profiler:"
   ]
  },
  {
   "cell_type": "code",
   "execution_count": 40,
   "metadata": {},
   "outputs": [],
   "source": [
    "from collections import Counter\n",
    "import numpy as np\n",
    "\n",
    "def mode_using_counter(n_integers):\n",
    "    random_integers = np.random.randint(1, 100000, n_integers)\n",
    "    c = Counter(random_integers)\n",
    "    return c.most_common(1)[0][0]"
   ]
  },
  {
   "cell_type": "code",
   "execution_count": 41,
   "metadata": {},
   "outputs": [
    {
     "data": {
      "text/plain": [
       "67682"
      ]
     },
     "execution_count": 41,
     "metadata": {},
     "output_type": "execute_result"
    }
   ],
   "source": [
    "mode_using_counter(10000000)"
   ]
  },
  {
   "cell_type": "code",
   "execution_count": 42,
   "metadata": {},
   "outputs": [
    {
     "name": "stdout",
     "output_type": "stream",
     "text": [
      "3.58 s ± 86.1 ms per loop (mean ± std. dev. of 7 runs, 1 loop each)\n"
     ]
    }
   ],
   "source": [
    "%%timeit\n",
    "mode_using_counter(10000000)"
   ]
  },
  {
   "cell_type": "code",
   "execution_count": 43,
   "metadata": {},
   "outputs": [
    {
     "name": "stdout",
     "output_type": "stream",
     "text": [
      " "
     ]
    },
    {
     "name": "stdout",
     "output_type": "stream",
     "text": [
      "         23 function calls in 3.530 seconds\n",
      "\n",
      "   Ordered by: internal time\n",
      "\n",
      "   ncalls  tottime  percall  cumtime  percall filename:lineno(function)\n",
      "        1    3.397    3.397    3.397    3.397 {built-in method _collections._count_elements}\n",
      "        1    0.114    0.114    0.115    0.115 {method 'randint' of 'numpy.random.mtrand.RandomState' objects}\n",
      "        1    0.009    0.009    0.009    0.009 {built-in method builtins.max}\n",
      "        1    0.007    0.007    3.530    3.530 <string>:1(<module>)\n",
      "        1    0.001    0.001    3.522    3.522 3965975765.py:4(mode_using_counter)\n",
      "        1    0.000    0.000    0.000    0.000 fromnumeric.py:71(_wrapreduction)\n",
      "        1    0.000    0.000    3.397    3.397 __init__.py:640(update)\n",
      "        1    0.000    0.000    0.000    0.000 {built-in method builtins.isinstance}\n",
      "        1    0.000    0.000    3.530    3.530 {built-in method builtins.exec}\n",
      "        1    0.000    0.000    0.009    0.009 heapq.py:521(nlargest)\n",
      "        1    0.000    0.000    0.000    0.000 {method 'reduce' of 'numpy.ufunc' objects}\n",
      "        1    0.000    0.000    0.009    0.009 __init__.py:588(most_common)\n",
      "        1    0.000    0.000    0.000    0.000 abc.py:117(__instancecheck__)\n",
      "        1    0.000    0.000    0.000    0.000 {built-in method builtins.iter}\n",
      "        1    0.000    0.000    3.397    3.397 __init__.py:565(__init__)\n",
      "        1    0.000    0.000    0.000    0.000 fromnumeric.py:2974(_prod_dispatcher)\n",
      "        1    0.000    0.000    0.000    0.000 {built-in method _abc._abc_instancecheck}\n",
      "        1    0.000    0.000    0.000    0.000 fromnumeric.py:2979(prod)\n",
      "        1    0.000    0.000    0.000    0.000 {built-in method builtins.getattr}\n",
      "        1    0.000    0.000    0.000    0.000 fromnumeric.py:72(<dictcomp>)\n",
      "        1    0.000    0.000    0.000    0.000 {method 'disable' of '_lsprof.Profiler' objects}\n",
      "        2    0.000    0.000    0.000    0.000 {method 'items' of 'dict' objects}"
     ]
    }
   ],
   "source": [
    "%%prun\n",
    "mode_using_counter(10000000)"
   ]
  },
  {
   "cell_type": "markdown",
   "metadata": {},
   "source": [
    "The `tottime` column in this output shows where the computer spent most of the time when running this code: in the built-in method `_collections._count_elements` function, which is the Counter function. The next most time-consuming part was method 'randint' of 'numpy.random.mtrand.RandomState' objects, which is the step that created the list of random numbers. All the other steps took very little time. The disadvantage of using cProfile is that you need to map each of these function calls back to lines within your code."
   ]
  },
  {
   "cell_type": "markdown",
   "metadata": {},
   "source": [
    "### SnakeViz for Profile Visualization"
   ]
  },
  {
   "cell_type": "code",
   "execution_count": 44,
   "metadata": {},
   "outputs": [
    {
     "name": "stdout",
     "output_type": "stream",
     "text": [
      "The snakeviz extension is already loaded. To reload it, use:\n",
      "  %reload_ext snakeviz\n"
     ]
    }
   ],
   "source": [
    "%load_ext snakeviz"
   ]
  },
  {
   "cell_type": "code",
   "execution_count": null,
   "metadata": {},
   "outputs": [],
   "source": [
    "import cProfile\n",
    "\n",
    "# Profile the function\n",
    "pr = cProfile.Profile()\n",
    "pr.enable()\n",
    "mode_using_counter(1000000)\n",
    "pr.disable()\n",
    "\n",
    "# Save the profile\n",
    "pr.dump_stats('profile_output.prof')\n",
    "\n",
    "# Then run snakeviz from terminal\n",
    "# snakeviz profile_output.prof"
   ]
  },
  {
   "cell_type": "markdown",
   "metadata": {},
   "source": [
    "`line_profiler`"
   ]
  },
  {
   "cell_type": "markdown",
   "metadata": {},
   "source": [
    "`cProfile` gives you a detailed breakdown of how the computer spends its time, including details of Python’s internal workings. However, its output is not particularly easy to read and may dive too deep into Python built-in methods called by your code. The package `line_profiler` gives a much more readable breakdown of your code. It calls out what lines in your code take how much time.  "
   ]
  },
  {
   "cell_type": "code",
   "execution_count": 18,
   "metadata": {},
   "outputs": [],
   "source": [
    "%load_ext line_profiler"
   ]
  },
  {
   "cell_type": "markdown",
   "metadata": {},
   "source": [
    "You need to explicitly tell line_profiler which function to look at using the `-f` flag, and you can run the function using this command:"
   ]
  },
  {
   "cell_type": "code",
   "execution_count": 19,
   "metadata": {},
   "outputs": [
    {
     "name": "stdout",
     "output_type": "stream",
     "text": [
      "Timer unit: 1e-07 s\n",
      "\n",
      "Total time: 3.57672 s\n",
      "File: C:\\Users\\anpande\\AppData\\Local\\Temp\\ipykernel_7608\\3965975765.py\n",
      "Function: mode_using_counter at line 4\n",
      "\n",
      "Line #      Hits         Time  Per Hit   % Time  Line Contents\n",
      "==============================================================\n",
      "     4                                           def mode_using_counter(n_integers):\n",
      "     5         1    1330537.0    1e+06      3.7      random_integers = np.random.randint(1, 100000, n_integers)\n",
      "     6         1   34337694.0    3e+07     96.0      c = Counter(random_integers)\n",
      "     7         1      98952.0  98952.0      0.3      return c.most_common(1)[0][0]"
     ]
    }
   ],
   "source": [
    "%lprun -f mode_using_counter mode_using_counter(10000000)"
   ]
  },
  {
   "cell_type": "markdown",
   "metadata": {},
   "source": [
    "## Memory Profiling \n",
    "\n",
    "You can profile your code’s memory usage as well as the time it takes to run. Memory usage is something you also may need to optimize, depending on your code’s requirements. It’s important to consider this as the size of your data increases, because you may hit the upper limits of the hardware you are using. Additionally, the CPU has to work harder to manage memory. This could increase the runtime of your code if the CPU is spending too much time managing the memory instead of executing code.\n"
   ]
  },
  {
   "cell_type": "code",
   "execution_count": 21,
   "metadata": {},
   "outputs": [
    {
     "name": "stdout",
     "output_type": "stream",
     "text": [
      "The memory_profiler extension is already loaded. To reload it, use:\n",
      "  %reload_ext memory_profiler\n",
      "peak memory: 92.28 MiB, increment: 20.95 MiB\n"
     ]
    }
   ],
   "source": [
    "%load_ext memory_profiler\n",
    "%memit mode_using_counter(1000000)"
   ]
  },
  {
   "cell_type": "markdown",
   "metadata": {},
   "source": [
    "### Monitoring Memory Usage Over Time\n",
    "We can use memory_usage function for plotting\n"
   ]
  },
  {
   "cell_type": "code",
   "execution_count": 24,
   "metadata": {},
   "outputs": [
    {
     "data": {
      "image/png": "[encoded data removed]",
      "text/plain": [
       "<Figure size 1000x600 with 1 Axes>"
      ]
     },
     "metadata": {},
     "output_type": "display_data"
    },
    {
     "name": "stdout",
     "output_type": "stream",
     "text": [
      "Peak memory usage: 112.45 MB\n",
      "Memory increment: 16.73 MB\n"
     ]
    }
   ],
   "source": [
    "from memory_profiler import memory_usage\n",
    "from collections import Counter\n",
    "import numpy as np\n",
    "import matplotlib.pyplot as plt\n",
    "\n",
    "def mode_using_counter_profiled(n_integers):\n",
    "    random_integers = np.random.randint(1, 100000, n_integers)\n",
    "    c = Counter(random_integers)\n",
    "    return c.most_common(1)[0][0]\n",
    "\n",
    "# Monitor memory usage over time\n",
    "mem_usage = memory_usage((mode_using_counter_profiled, (1000000,)), interval=0.1)\n",
    "\n",
    "# Plot memory usage\n",
    "plt.figure(figsize=(10, 6))\n",
    "plt.plot(mem_usage)\n",
    "plt.xlabel('Time (0.1s intervals)')\n",
    "plt.ylabel('Memory Usage (MB)')\n",
    "plt.title('Memory Usage During Function Execution')\n",
    "plt.grid(True)\n",
    "plt.show()\n",
    "\n",
    "print(f\"Peak memory usage: {max(mem_usage):.2f} MB\")\n",
    "print(f\"Memory increment: {max(mem_usage) - min(mem_usage):.2f} MB\")"
   ]
  },
  {
   "cell_type": "markdown",
   "metadata": {},
   "source": [
    "## Time Complexity"
   ]
  },
  {
   "cell_type": "markdown",
   "metadata": {},
   "source": [
    "What happens if you expect the amount of data to grow in the future? Or what if parts of your code take so long to run that it’s not feasible to measure them? The concept of time complexity can help you here.\n",
    "\n",
    "Time complexity describes how the running time of an algorithm grows as the size of the input increases. This means an overall trend, not specific to any hardware. To make this more concrete, consider this question: if you run your code on a list of numbers, then double the length of the list, what happens to the runtime of the code? Does it stay the same, or does it double, or something else?\n",
    "\n",
    "### How to Estimate Time Complexity\n",
    "Here’s an example. This function calculates a weighted mean, taking as input a list of numbers and a list of weights to apply to those numbers:\n"
   ]
  },
  {
   "cell_type": "code",
   "execution_count": 26,
   "metadata": {},
   "outputs": [],
   "source": [
    "def weighted_mean(list_of_numbers, weights):\n",
    "    running_total = 0\n",
    "    for i in range(len(list_of_numbers)):\n",
    "        running_total += (list_of_numbers[i] * weights[i])\n",
    "    return (running_total/sum(weights))"
   ]
  },
  {
   "cell_type": "markdown",
   "metadata": {},
   "source": [
    "If the length of `list_of_numbers` doubles, the number of iterations in the for loop also doubles. The other lines in this function (initializing the running total and dividing it by the length of the list) don’t increase their runtime. You could think about this as an equation for the runtime of the code in terms of the number of steps in this function, where each step is some operation carried out by the code. Initializing the running total is one step, each time the running total is added to constitutes another step, and returning the result is another step. \n",
    "\n",
    "The equation would be:\n",
    "\n",
    "`number_of_steps = n + 2` where n is the length of the input lists\n",
    "\n",
    "So as the size of n increases, the number of steps grows linearly but the 2 remains constant.\n"
   ]
  },
  {
   "cell_type": "markdown",
   "metadata": {},
   "source": [
    "The following function accepts two lists as inputs and calculates their covariance (a measure of the strength of the correlation between two random variables). Again, this isn’t the best way to calculate this; the function is just to illustrate the point:"
   ]
  },
  {
   "cell_type": "code",
   "execution_count": 27,
   "metadata": {},
   "outputs": [],
   "source": [
    "def covariance(X, Y):\n",
    "    cov_sum = 0\n",
    "    for i in range(len(X)):\n",
    "        for j in range(len(Y)):\n",
    "            cov_sum += 0.5 * (X[i] - X[j]) * (Y[i] - Y[j])\n",
    "    return cov_sum / (len(X) ** 2)"
   ]
  },
  {
   "cell_type": "markdown",
   "metadata": {},
   "source": [
    "Because there are two nested (one inside the other) for loops in this function, if the sizes of both X and Y double, the number of steps taken to calculate the result increases fourfold. X and Y both must be the same length in this function. \n",
    "\n",
    "The running time of the code increases proportionally to the square of the increase in the size of the dataset. The following suggests a way to improve the runtime using only one for loop. "
   ]
  },
  {
   "cell_type": "code",
   "execution_count": 28,
   "metadata": {},
   "outputs": [],
   "source": [
    "def covariance_fast(X, Y):\n",
    "    avg_X = sum(X) / len(X)\n",
    "    avg_Y = sum(Y) / len(Y)\n",
    "\n",
    "    result = 0\n",
    "    for i in range(len(X)):\n",
    "        result += (X[i] - avg_X) * (Y[i] - avg_Y)\n",
    "\n",
    "    return result / len(X)"
   ]
  },
  {
   "cell_type": "code",
   "execution_count": 29,
   "metadata": {},
   "outputs": [],
   "source": [
    "import numpy as np\n",
    "X = np.random.randint(1, 1000, 1000)\n",
    "Y = np.random.randint(1, 1000, 1000)"
   ]
  },
  {
   "cell_type": "code",
   "execution_count": 30,
   "metadata": {},
   "outputs": [
    {
     "name": "stdout",
     "output_type": "stream",
     "text": [
      "720 µs ± 20.7 µs per loop (mean ± std. dev. of 7 runs, 1,000 loops each)\n"
     ]
    }
   ],
   "source": [
    "%%timeit\n",
    "covariance_fast(X, Y)"
   ]
  },
  {
   "cell_type": "code",
   "execution_count": 31,
   "metadata": {},
   "outputs": [
    {
     "name": "stdout",
     "output_type": "stream",
     "text": [
      "2.32 s ± 133 ms per loop (mean ± std. dev. of 7 runs, 1 loop each)\n"
     ]
    }
   ],
   "source": [
    "%%timeit\n",
    "covariance(X, Y)"
   ]
  },
  {
   "cell_type": "markdown",
   "metadata": {},
   "source": [
    "## Code to generate Big-O Chart"
   ]
  },
  {
   "cell_type": "code",
   "execution_count": 32,
   "metadata": {},
   "outputs": [],
   "source": [
    "import matplotlib.pyplot as plt\n",
    "import numpy as np"
   ]
  },
  {
   "cell_type": "code",
   "execution_count": 33,
   "metadata": {},
   "outputs": [
    {
     "data": {
      "image/png": "[encoded data removed]",
      "text/plain": [
       "<Figure size 640x480 with 1 Axes>"
      ]
     },
     "metadata": {},
     "output_type": "display_data"
    }
   ],
   "source": [
    "n = np.linspace(1, 10, 1000)\n",
    "line_names = [\n",
    "    \"Constant\",\n",
    "    \"Linear\",\n",
    "    \"Quadratic\",\n",
    "    \"Exponential\",\n",
    "    \"Logarithmic\",\n",
    "    \"N log N\",\n",
    "]\n",
    "big_o = [np.ones(n.shape), n, n**2, 2**n, np.log(n), n * (np.log(n))]\n",
    "\n",
    "fig, ax = plt.subplots()\n",
    "fig.set_facecolor(\"white\")\n",
    "\n",
    "ax.set_ylim(0, 50)\n",
    "for i in range(len(big_o)):\n",
    "    ax.plot(n, big_o[i], label=line_names[i])\n",
    "ax.set_ylabel(\"Relative Runtime\")\n",
    "ax.set_xlabel(\"Input Size\")\n",
    "ax.legend()\n",
    "fig.savefig(\"ch02_02.png\", bbox_inches=\"tight\")"
   ]
  }
 ],
 "metadata": {
  "kernelspec": {
   "display_name": "SD4DS",
   "language": "python",
   "name": "python3"
  },
  "language_info": {
   "codemirror_mode": {
    "name": "ipython",
    "version": 3
   },
   "file_extension": ".py",
   "mimetype": "text/x-python",
   "name": "python",
   "nbconvert_exporter": "python",
   "pygments_lexer": "ipython3",
   "version": "3.10.11"
  }
 },
 "nbformat": 4,
 "nbformat_minor": 4
}
